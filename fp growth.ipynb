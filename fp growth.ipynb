{
 "cells": [
  {
   "cell_type": "code",
   "execution_count": 94,
   "metadata": {},
   "outputs": [],
   "source": [
    "class Tree(object):\n",
    "    def __init__(self,p):\n",
    "        self.child = []\n",
    "        self.val = 0\n",
    "        self.data = None\n",
    "        self.par = p\n",
    "        self.link = None\n",
    "        \n",
    "    def insertChild(self,c):\n",
    "        self.child.append(c)\n",
    "        \n",
    "    def isPresent(self,v):\n",
    "        for i in range(len(self.child)):\n",
    "            if self.child[i].data == v:\n",
    "                return i\n",
    "        return -1\n",
    "    \n",
    "    def incChild(self,v):\n",
    "        for i in range(len(self.child)):\n",
    "            if self.child[i].data == v:\n",
    "                self.child[i].val +=1\n",
    "        \n",
    "        \n",
    "def creatNode(root,a):\n",
    "    tmp = Tree(root)\n",
    "    tmp.val = 1\n",
    "    tmp.data = a\n",
    "    return tmp\n",
    "\n",
    "\n",
    "\n",
    "\n",
    "\n",
    "#def insert(node,)"
   ]
  },
  {
   "cell_type": "code",
   "execution_count": 8,
   "metadata": {},
   "outputs": [],
   "source": [
    "# root = Tree(\"r\")\n",
    "# root.data = \"root\"\n",
    "# root.val=0\n",
    "\n",
    "# temp = creatNode(root,\"s\")\n",
    "# temp2 = creatNode(root,\"b\")\n",
    "\n",
    "\n",
    "\n",
    "# root.insertChild(temp)\n",
    "# root.insertChild(temp2)\n",
    "\n",
    "\n",
    "# print(type(root.child))\n",
    "\n",
    "# for i in range(len(root.child)):\n",
    "#     print(root.child[i].data)\n",
    "    \n",
    "# temp = creatNode(root,\"k\")\n",
    "\n",
    "# root.insertChild(temp)\n",
    "# root.incChild(\"b\")\n",
    "\n",
    "\n",
    "# print(\"**\")\n",
    "# for i in range(len(root.child)):\n",
    "#     print(root.child[i].val)\n",
    "    \n",
    "\n",
    "# print(root.isPresent(\"k\"))"
   ]
  },
  {
   "cell_type": "code",
   "execution_count": 85,
   "metadata": {},
   "outputs": [
    {
     "name": "stdout",
     "output_type": "stream",
     "text": [
      "2\n"
     ]
    }
   ],
   "source": [
    "import time\n",
    "start_time = time.time()\n",
    "\n",
    "dataset = []\n",
    "\n",
    "with open(\"mushroom\") as fp:  \n",
    "    line = fp.readline().split(\" \")[:-1]\n",
    "    cnt = 1\n",
    "    while line:\n",
    "        line = list(map(int, line))\n",
    "        line.sort()\n",
    "        dataset.append(line)\n",
    "        line = fp.readline().split(\" \")[:-1]\n",
    "        cnt += 1\n",
    "\n",
    "        \n",
    "global number\n",
    "number = 0\n",
    "min_sup = 2#int(cnt * .3)\n",
    "print(min_sup)"
   ]
  },
  {
   "cell_type": "code",
   "execution_count": 86,
   "metadata": {},
   "outputs": [],
   "source": [
    "data = [[1,2,5],[2,4],[2,3],[1,2,4],[1,3],[2,3],[1,3],[1,2,3,5],[1,2,3]]\n",
    "dataset = data"
   ]
  },
  {
   "cell_type": "code",
   "execution_count": 127,
   "metadata": {},
   "outputs": [
    {
     "name": "stdout",
     "output_type": "stream",
     "text": [
      "[(2, 7), (1, 6), (3, 6), (4, 2), (5, 2)]\n",
      "[('st', 'nxt'), ('st', 'nxt'), ('st', 'nxt'), ('st', 'nxt'), ('st', 'nxt')]\n"
     ]
    }
   ],
   "source": [
    "import itertools\n",
    "datalist = list(itertools.chain.from_iterable(dataset))\n",
    "uniqueval = list(set(list(itertools.chain.from_iterable(dataset))))\n",
    "\n",
    "keys = []\n",
    "values = []\n",
    "ndlink = []\n",
    "nextlink = []\n",
    "\n",
    "for i in range(len(uniqueval)):\n",
    "    if(datalist.count(uniqueval[i])>=min_sup):\n",
    "        keys.append(uniqueval[i])\n",
    "        values.append(datalist.count(uniqueval[i]))\n",
    "        ndlink.append(\"st\")\n",
    "        nextlink.append(\"nxt\")\n",
    "        \n",
    "        \n",
    "dictionary = dict(zip(keys, values))\n",
    "\n",
    "d_list = sorted(dictionary.items(), key=operator.itemgetter(0))\n",
    "datadict = sorted(d_list, key=operator.itemgetter(1), reverse=True)\n",
    "\n",
    "linker = list(zip(ndlink,nextlink))\n",
    "\n",
    "print(datadict)\n",
    "print(linker)"
   ]
  },
  {
   "cell_type": "code",
   "execution_count": 108,
   "metadata": {},
   "outputs": [
    {
     "name": "stdout",
     "output_type": "stream",
     "text": [
      "root\n",
      "**\n",
      "5 1\n"
     ]
    }
   ],
   "source": [
    "root = Tree(\"r\")\n",
    "root.data = \"root\"\n",
    "root.val= \"root\"\n",
    "\n",
    "\n",
    "print(root.data)\n",
    "\n",
    "for i in range(len(dataset)):\n",
    "#     if i==1:\n",
    "#         break\n",
    "    temp = root\n",
    "    for j in range(len(datadict)):\n",
    "        if datadict[j][0] in dataset[i]:\n",
    "            \n",
    "            if temp.isPresent(datadict[j][0])>=0:\n",
    "                temp.incChild(datadict[j][0])\n",
    "            else:\n",
    "                node = creatNode(temp,datadict[j][0])\n",
    "                temp.insertChild(node)\n",
    "                \n",
    "            idx = temp.isPresent(datadict[j][0])\n",
    "            temp = temp.child[idx]\n",
    "                \n",
    "print(\"**\")\n",
    "\n",
    "#print(len(root.child))\n",
    "#for i in range(len(root.child)):\n",
    "print(root.child[0].child[0].child[0].data,root.child[0].child[0].child[0].val)\n",
    "        "
   ]
  },
  {
   "cell_type": "code",
   "execution_count": null,
   "metadata": {},
   "outputs": [],
   "source": []
  },
  {
   "cell_type": "code",
   "execution_count": null,
   "metadata": {},
   "outputs": [],
   "source": []
  },
  {
   "cell_type": "code",
   "execution_count": null,
   "metadata": {},
   "outputs": [],
   "source": []
  },
  {
   "cell_type": "code",
   "execution_count": null,
   "metadata": {},
   "outputs": [],
   "source": []
  },
  {
   "cell_type": "code",
   "execution_count": null,
   "metadata": {},
   "outputs": [],
   "source": []
  },
  {
   "cell_type": "code",
   "execution_count": null,
   "metadata": {},
   "outputs": [],
   "source": []
  },
  {
   "cell_type": "code",
   "execution_count": null,
   "metadata": {},
   "outputs": [],
   "source": []
  },
  {
   "cell_type": "code",
   "execution_count": null,
   "metadata": {},
   "outputs": [],
   "source": []
  },
  {
   "cell_type": "code",
   "execution_count": null,
   "metadata": {},
   "outputs": [],
   "source": []
  }
 ],
 "metadata": {
  "kernelspec": {
   "display_name": "Python 3",
   "language": "python",
   "name": "python3"
  },
  "language_info": {
   "codemirror_mode": {
    "name": "ipython",
    "version": 3
   },
   "file_extension": ".py",
   "mimetype": "text/x-python",
   "name": "python",
   "nbconvert_exporter": "python",
   "pygments_lexer": "ipython3",
   "version": "3.6.5"
  }
 },
 "nbformat": 4,
 "nbformat_minor": 2
}
