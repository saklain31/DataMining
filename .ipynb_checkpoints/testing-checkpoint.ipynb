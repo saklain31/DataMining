{
 "cells": [
  {
   "cell_type": "code",
   "execution_count": 21,
   "metadata": {},
   "outputs": [
    {
     "data": {
      "text/plain": [
       "array([[1, 3, 2],\n",
       "       [1, 3, 4],\n",
       "       [1, 2, 4],\n",
       "       [3, 2, 4]])"
      ]
     },
     "execution_count": 21,
     "metadata": {},
     "output_type": "execute_result"
    }
   ],
   "source": [
    "import numpy as np\n",
    "import itertools\n",
    "np.array(list(itertools.combinations([1,3,2,4],3)))"
   ]
  },
  {
   "cell_type": "code",
   "execution_count": 149,
   "metadata": {},
   "outputs": [
    {
     "name": "stdout",
     "output_type": "stream",
     "text": [
      "['foo', 'bar', 'baz', 'barz', 'bar', 'fooz', 'foo', 'sam', 'san', 'sam']\n",
      "word foo\n",
      "ccurrd {}\n",
      "curr 1\n",
      "word bar\n",
      "ccurrd {}\n",
      "curr 1\n",
      "word baz\n",
      "ccurrd {}\n",
      "curr 1\n",
      "word barz\n",
      "ccurrd {}\n",
      "curr 1\n",
      "word bar\n",
      "ccurrd {'-': 1, 'z': {'-': 1}}\n",
      "curr 2\n",
      "word fooz\n",
      "ccurrd {}\n",
      "curr 1\n",
      "word foo\n",
      "ccurrd {'-': 1, 'z': {'-': 1}}\n",
      "curr 2\n",
      "word sam\n",
      "ccurrd {}\n",
      "curr 1\n",
      "word san\n",
      "ccurrd {}\n",
      "curr 1\n",
      "word sam\n",
      "ccurrd {'-': 1}\n",
      "curr 2\n",
      "{'f': {'o': {'o': {'-': 2, 'z': {'-': 1}}}}, 'b': {'a': {'r': {'-': 2, 'z': {'-': 1}}, 'z': {'-': 1}}}, 's': {'a': {'m': {'-': 2}, 'n': {'-': 1}}}}\n"
     ]
    }
   ],
   "source": [
    "_end = '-'\n",
    "val=1\n",
    "def make_trie(words):\n",
    "    print(words)\n",
    "    root = dict()\n",
    "    for i in range(len(words)):\n",
    "        print(\"word\",words[i])\n",
    "        current_dict = root\n",
    "        for letter in words[i]:\n",
    "            current_dict = current_dict.setdefault(letter, {})\n",
    "        \n",
    "        print(\"ccurrd\",current_dict)\n",
    "        \n",
    "        if bool(current_dict):\n",
    "            current_dict[_end] += 1\n",
    "        else:\n",
    "            current_dict[_end] = val\n",
    "        \n",
    "        print(\"curr\",current_dict[_end])\n",
    "    return root\n",
    "\n",
    "t=make_trie(['foo', 'bar', 'baz', 'barz','bar','fooz','foo','sam','san','sam'])\n",
    "print(t)"
   ]
  },
  {
   "cell_type": "code",
   "execution_count": null,
   "metadata": {},
   "outputs": [],
   "source": []
  },
  {
   "cell_type": "code",
   "execution_count": null,
   "metadata": {},
   "outputs": [],
   "source": [
    "{'f': {'o': {'o': {'-': '-'}}},\n",
    " 'b': {'a': {'r': {'-': '-', 'z': {'-': '-'}}, 'z': {'-': '-'}}}}"
   ]
  },
  {
   "cell_type": "code",
   "execution_count": 251,
   "metadata": {},
   "outputs": [],
   "source": [
    "def in_trie(trie, word):\n",
    "    \n",
    "    current_dict = trie\n",
    "    for letter in word:\n",
    "        if letter in current_dict:\n",
    "            current_dict = current_dict[letter]\n",
    "            if bool(current_dict):\n",
    "                in_hist = [list(current_dict.values()) for x in current_dict]\n",
    "                print(\"val\",in_hist,type(current_dict.values()))\n",
    "        else:\n",
    "            return 0\n",
    "    else:\n",
    "        if _end in current_dict:\n",
    "            return current_dict[_end]\n",
    "        else:\n",
    "            return 0"
   ]
  },
  {
   "cell_type": "code",
   "execution_count": 249,
   "metadata": {},
   "outputs": [
    {
     "name": "stdout",
     "output_type": "stream",
     "text": [
      "val [[{'r': {'-': 2, 'z': {'-': 1}}, 'z': {'-': 1}}]] <class 'dict_values'>\n",
      "val [[{'-': 2, 'z': {'-': 1}}, {'-': 1}], [{'-': 2, 'z': {'-': 1}}, {'-': 1}]] <class 'dict_values'>\n"
     ]
    },
    {
     "data": {
      "text/plain": [
       "0"
      ]
     },
     "execution_count": 249,
     "metadata": {},
     "output_type": "execute_result"
    }
   ],
   "source": [
    "# def in_trie(trie, word):\n",
    "#     current_dict = trie\n",
    "#     for letter in word:\n",
    "#         if letter in current_dict:\n",
    "#             current_dict = current_dict[letter]\n",
    "#         else:\n",
    "#             return False\n",
    "#     else:\n",
    "#         if _end in current_dict:\n",
    "#             return True\n",
    "#         else:\n",
    "#             return False\n",
    "    \n",
    "arr = [[1,2,5],[1,2,4],[2,3],[1,2,4],[1,3],[2,3],[1,3],[1,2,3,5],[1,2,3]]\n",
    "\n",
    "\n",
    "#arr = dict((enumerate(arr)))\n",
    "#trie = make_trie(arr) \n",
    "#print(trie)\n",
    "\n",
    "#in_trie(trie,[1,2,4])\n",
    "\n",
    "in_trie(t, 'ba')"
   ]
  },
  {
   "cell_type": "code",
   "execution_count": null,
   "metadata": {},
   "outputs": [],
   "source": []
  },
  {
   "cell_type": "markdown",
   "metadata": {},
   "source": [
    "##### in_trie(t,'bar')"
   ]
  }
 ],
 "metadata": {
  "kernelspec": {
   "display_name": "Python 3",
   "language": "python",
   "name": "python3"
  },
  "language_info": {
   "codemirror_mode": {
    "name": "ipython",
    "version": 3
   },
   "file_extension": ".py",
   "mimetype": "text/x-python",
   "name": "python",
   "nbconvert_exporter": "python",
   "pygments_lexer": "ipython3",
   "version": "3.6.5"
  }
 },
 "nbformat": 4,
 "nbformat_minor": 2
}
